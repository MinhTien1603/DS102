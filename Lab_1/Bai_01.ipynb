{
 "cells": [
  {
   "cell_type": "markdown",
   "metadata": {},
   "source": [
    "Initilize"
   ]
  },
  {
   "cell_type": "code",
   "execution_count": 2,
   "metadata": {},
   "outputs": [],
   "source": [
    "import numpy as np\n",
    "import pandas as pd\n",
    "import matplotlib.pyplot as plt\n",
    "import seaborn as sns"
   ]
  },
  {
   "cell_type": "markdown",
   "metadata": {},
   "source": [
    "Data pre-processing"
   ]
  },
  {
   "cell_type": "code",
   "execution_count": 3,
   "metadata": {},
   "outputs": [
    {
     "data": {
      "text/html": [
       "<div>\n",
       "<style scoped>\n",
       "    .dataframe tbody tr th:only-of-type {\n",
       "        vertical-align: middle;\n",
       "    }\n",
       "\n",
       "    .dataframe tbody tr th {\n",
       "        vertical-align: top;\n",
       "    }\n",
       "\n",
       "    .dataframe thead th {\n",
       "        text-align: right;\n",
       "    }\n",
       "</style>\n",
       "<table border=\"1\" class=\"dataframe\">\n",
       "  <thead>\n",
       "    <tr style=\"text-align: right;\">\n",
       "      <th></th>\n",
       "      <th>X</th>\n",
       "      <th>Y</th>\n",
       "      <th>month</th>\n",
       "      <th>day</th>\n",
       "      <th>FFMC</th>\n",
       "      <th>DMC</th>\n",
       "      <th>DC</th>\n",
       "      <th>ISI</th>\n",
       "      <th>temp</th>\n",
       "      <th>RH</th>\n",
       "      <th>wind</th>\n",
       "      <th>rain</th>\n",
       "      <th>area</th>\n",
       "    </tr>\n",
       "  </thead>\n",
       "  <tbody>\n",
       "    <tr>\n",
       "      <th>0</th>\n",
       "      <td>7</td>\n",
       "      <td>5</td>\n",
       "      <td>mar</td>\n",
       "      <td>fri</td>\n",
       "      <td>86.2</td>\n",
       "      <td>26.2</td>\n",
       "      <td>94.3</td>\n",
       "      <td>5.1</td>\n",
       "      <td>8.2</td>\n",
       "      <td>51</td>\n",
       "      <td>6.7</td>\n",
       "      <td>0.0</td>\n",
       "      <td>0.0</td>\n",
       "    </tr>\n",
       "    <tr>\n",
       "      <th>1</th>\n",
       "      <td>7</td>\n",
       "      <td>4</td>\n",
       "      <td>oct</td>\n",
       "      <td>tue</td>\n",
       "      <td>90.6</td>\n",
       "      <td>35.4</td>\n",
       "      <td>669.1</td>\n",
       "      <td>6.7</td>\n",
       "      <td>18.0</td>\n",
       "      <td>33</td>\n",
       "      <td>0.9</td>\n",
       "      <td>0.0</td>\n",
       "      <td>0.0</td>\n",
       "    </tr>\n",
       "    <tr>\n",
       "      <th>2</th>\n",
       "      <td>7</td>\n",
       "      <td>4</td>\n",
       "      <td>oct</td>\n",
       "      <td>sat</td>\n",
       "      <td>90.6</td>\n",
       "      <td>43.7</td>\n",
       "      <td>686.9</td>\n",
       "      <td>6.7</td>\n",
       "      <td>14.6</td>\n",
       "      <td>33</td>\n",
       "      <td>1.3</td>\n",
       "      <td>0.0</td>\n",
       "      <td>0.0</td>\n",
       "    </tr>\n",
       "    <tr>\n",
       "      <th>3</th>\n",
       "      <td>8</td>\n",
       "      <td>6</td>\n",
       "      <td>mar</td>\n",
       "      <td>fri</td>\n",
       "      <td>91.7</td>\n",
       "      <td>33.3</td>\n",
       "      <td>77.5</td>\n",
       "      <td>9.0</td>\n",
       "      <td>8.3</td>\n",
       "      <td>97</td>\n",
       "      <td>4.0</td>\n",
       "      <td>0.2</td>\n",
       "      <td>0.0</td>\n",
       "    </tr>\n",
       "    <tr>\n",
       "      <th>4</th>\n",
       "      <td>8</td>\n",
       "      <td>6</td>\n",
       "      <td>mar</td>\n",
       "      <td>sun</td>\n",
       "      <td>89.3</td>\n",
       "      <td>51.3</td>\n",
       "      <td>102.2</td>\n",
       "      <td>9.6</td>\n",
       "      <td>11.4</td>\n",
       "      <td>99</td>\n",
       "      <td>1.8</td>\n",
       "      <td>0.0</td>\n",
       "      <td>0.0</td>\n",
       "    </tr>\n",
       "  </tbody>\n",
       "</table>\n",
       "</div>"
      ],
      "text/plain": [
       "   X  Y month  day  FFMC   DMC     DC  ISI  temp  RH  wind  rain  area\n",
       "0  7  5   mar  fri  86.2  26.2   94.3  5.1   8.2  51   6.7   0.0   0.0\n",
       "1  7  4   oct  tue  90.6  35.4  669.1  6.7  18.0  33   0.9   0.0   0.0\n",
       "2  7  4   oct  sat  90.6  43.7  686.9  6.7  14.6  33   1.3   0.0   0.0\n",
       "3  8  6   mar  fri  91.7  33.3   77.5  9.0   8.3  97   4.0   0.2   0.0\n",
       "4  8  6   mar  sun  89.3  51.3  102.2  9.6  11.4  99   1.8   0.0   0.0"
      ]
     },
     "execution_count": 3,
     "metadata": {},
     "output_type": "execute_result"
    }
   ],
   "source": [
    "df = pd.read_csv('Data/forestfires.csv')\n",
    "df.head()"
   ]
  },
  {
   "cell_type": "code",
   "execution_count": 4,
   "metadata": {},
   "outputs": [
    {
     "name": "stdout",
     "output_type": "stream",
     "text": [
      "<class 'pandas.core.frame.DataFrame'>\n",
      "RangeIndex: 517 entries, 0 to 516\n",
      "Data columns (total 13 columns):\n",
      " #   Column  Non-Null Count  Dtype  \n",
      "---  ------  --------------  -----  \n",
      " 0   X       517 non-null    int64  \n",
      " 1   Y       517 non-null    int64  \n",
      " 2   month   517 non-null    object \n",
      " 3   day     517 non-null    object \n",
      " 4   FFMC    517 non-null    float64\n",
      " 5   DMC     517 non-null    float64\n",
      " 6   DC      517 non-null    float64\n",
      " 7   ISI     517 non-null    float64\n",
      " 8   temp    517 non-null    float64\n",
      " 9   RH      517 non-null    int64  \n",
      " 10  wind    517 non-null    float64\n",
      " 11  rain    517 non-null    float64\n",
      " 12  area    517 non-null    float64\n",
      "dtypes: float64(8), int64(3), object(2)\n",
      "memory usage: 52.6+ KB\n"
     ]
    }
   ],
   "source": [
    "df. info()"
   ]
  },
  {
   "cell_type": "code",
   "execution_count": 5,
   "metadata": {},
   "outputs": [
    {
     "name": "stdout",
     "output_type": "stream",
     "text": [
      "X\n",
      "NaN:  0\n",
      "Null:  0\n",
      "Dtype:  int64\n",
      "--------------------\n",
      "Y\n",
      "NaN:  0\n",
      "Null:  0\n",
      "Dtype:  int64\n",
      "--------------------\n",
      "month\n",
      "NaN:  0\n",
      "Null:  0\n",
      "Dtype:  object\n",
      "--------------------\n",
      "day\n",
      "NaN:  0\n",
      "Null:  0\n",
      "Dtype:  object\n",
      "--------------------\n",
      "FFMC\n",
      "NaN:  0\n",
      "Null:  0\n",
      "Dtype:  float64\n",
      "--------------------\n",
      "DMC\n",
      "NaN:  0\n",
      "Null:  0\n",
      "Dtype:  float64\n",
      "--------------------\n",
      "DC\n",
      "NaN:  0\n",
      "Null:  0\n",
      "Dtype:  float64\n",
      "--------------------\n",
      "ISI\n",
      "NaN:  0\n",
      "Null:  0\n",
      "Dtype:  float64\n",
      "--------------------\n",
      "temp\n",
      "NaN:  0\n",
      "Null:  0\n",
      "Dtype:  float64\n",
      "--------------------\n",
      "RH\n",
      "NaN:  0\n",
      "Null:  0\n",
      "Dtype:  int64\n",
      "--------------------\n",
      "wind\n",
      "NaN:  0\n",
      "Null:  0\n",
      "Dtype:  float64\n",
      "--------------------\n",
      "rain\n",
      "NaN:  0\n",
      "Null:  0\n",
      "Dtype:  float64\n",
      "--------------------\n",
      "area\n",
      "NaN:  0\n",
      "Null:  0\n",
      "Dtype:  float64\n",
      "--------------------\n"
     ]
    }
   ],
   "source": [
    "for column in df.columns:\n",
    "    print(column)\n",
    "    print('NaN: ', df[column].isna().sum())\n",
    "    print('Null: ', df[column].isnull().sum())\n",
    "    print('Dtype: ', df[column].dtypes)\n",
    "    print('-'*20)"
   ]
  },
  {
   "cell_type": "code",
   "execution_count": 6,
   "metadata": {},
   "outputs": [
    {
     "data": {
      "text/plain": [
       "array(['mar', 'oct', 'aug', 'sep', 'apr', 'jun', 'jul', 'feb', 'jan',\n",
       "       'dec', 'may', 'nov'], dtype=object)"
      ]
     },
     "execution_count": 6,
     "metadata": {},
     "output_type": "execute_result"
    }
   ],
   "source": [
    "df['month'].unique()"
   ]
  },
  {
   "cell_type": "code",
   "execution_count": 7,
   "metadata": {},
   "outputs": [
    {
     "data": {
      "text/plain": [
       "array(['fri', 'tue', 'sat', 'sun', 'mon', 'wed', 'thu'], dtype=object)"
      ]
     },
     "execution_count": 7,
     "metadata": {},
     "output_type": "execute_result"
    }
   ],
   "source": [
    "df['day'].unique()"
   ]
  },
  {
   "cell_type": "code",
   "execution_count": 8,
   "metadata": {},
   "outputs": [],
   "source": [
    "def convert_month(month : str) -> int:\n",
    "    \n",
    "    # convert month to number ( 1 - 12)\n",
    "    \n",
    "    month_dict = {\n",
    "        'jan' : 1,\n",
    "        'feb' : 2,\n",
    "        'mar' : 3,\n",
    "        'apr' : 4,\n",
    "        'may' : 5,\n",
    "        'jun' : 6,\n",
    "        'jul' : 7,\n",
    "        'aug' : 8,\n",
    "        'sep' : 9,\n",
    "        'oct' : 10,\n",
    "        'nov' : 11,\n",
    "        'dec' : 12\n",
    "    }\n",
    "    return month_dict[month]"
   ]
  },
  {
   "cell_type": "code",
   "execution_count": 9,
   "metadata": {},
   "outputs": [],
   "source": [
    "def convert_day (day : str) -> int:\n",
    "    \n",
    "    #Converts a day of the week from a string to an integer (0-6).\n",
    "    \n",
    "    day_dict = {\n",
    "        'sun' : 0,\n",
    "        'mon' : 1,\n",
    "        'tue' : 2,\n",
    "        'wed' : 3,\n",
    "        'thu' : 4,\n",
    "        'fri' : 5,\n",
    "        'sat' : 6\n",
    "    }\n",
    "    return day_dict[day]"
   ]
  },
  {
   "cell_type": "code",
   "execution_count": 10,
   "metadata": {},
   "outputs": [],
   "source": [
    "df['month'] = df['month'].apply(convert_month)"
   ]
  },
  {
   "cell_type": "code",
   "execution_count": 11,
   "metadata": {},
   "outputs": [],
   "source": [
    "df['day'] = df['day'].apply(convert_day)"
   ]
  },
  {
   "cell_type": "code",
   "execution_count": 12,
   "metadata": {},
   "outputs": [
    {
     "data": {
      "text/html": [
       "<div>\n",
       "<style scoped>\n",
       "    .dataframe tbody tr th:only-of-type {\n",
       "        vertical-align: middle;\n",
       "    }\n",
       "\n",
       "    .dataframe tbody tr th {\n",
       "        vertical-align: top;\n",
       "    }\n",
       "\n",
       "    .dataframe thead th {\n",
       "        text-align: right;\n",
       "    }\n",
       "</style>\n",
       "<table border=\"1\" class=\"dataframe\">\n",
       "  <thead>\n",
       "    <tr style=\"text-align: right;\">\n",
       "      <th></th>\n",
       "      <th>X</th>\n",
       "      <th>Y</th>\n",
       "      <th>month</th>\n",
       "      <th>day</th>\n",
       "      <th>FFMC</th>\n",
       "      <th>DMC</th>\n",
       "      <th>DC</th>\n",
       "      <th>ISI</th>\n",
       "      <th>temp</th>\n",
       "      <th>RH</th>\n",
       "      <th>wind</th>\n",
       "      <th>rain</th>\n",
       "      <th>area</th>\n",
       "    </tr>\n",
       "  </thead>\n",
       "  <tbody>\n",
       "    <tr>\n",
       "      <th>0</th>\n",
       "      <td>7</td>\n",
       "      <td>5</td>\n",
       "      <td>3</td>\n",
       "      <td>5</td>\n",
       "      <td>86.2</td>\n",
       "      <td>26.2</td>\n",
       "      <td>94.3</td>\n",
       "      <td>5.1</td>\n",
       "      <td>8.2</td>\n",
       "      <td>51</td>\n",
       "      <td>6.7</td>\n",
       "      <td>0.0</td>\n",
       "      <td>0.0</td>\n",
       "    </tr>\n",
       "    <tr>\n",
       "      <th>1</th>\n",
       "      <td>7</td>\n",
       "      <td>4</td>\n",
       "      <td>10</td>\n",
       "      <td>2</td>\n",
       "      <td>90.6</td>\n",
       "      <td>35.4</td>\n",
       "      <td>669.1</td>\n",
       "      <td>6.7</td>\n",
       "      <td>18.0</td>\n",
       "      <td>33</td>\n",
       "      <td>0.9</td>\n",
       "      <td>0.0</td>\n",
       "      <td>0.0</td>\n",
       "    </tr>\n",
       "    <tr>\n",
       "      <th>2</th>\n",
       "      <td>7</td>\n",
       "      <td>4</td>\n",
       "      <td>10</td>\n",
       "      <td>6</td>\n",
       "      <td>90.6</td>\n",
       "      <td>43.7</td>\n",
       "      <td>686.9</td>\n",
       "      <td>6.7</td>\n",
       "      <td>14.6</td>\n",
       "      <td>33</td>\n",
       "      <td>1.3</td>\n",
       "      <td>0.0</td>\n",
       "      <td>0.0</td>\n",
       "    </tr>\n",
       "    <tr>\n",
       "      <th>3</th>\n",
       "      <td>8</td>\n",
       "      <td>6</td>\n",
       "      <td>3</td>\n",
       "      <td>5</td>\n",
       "      <td>91.7</td>\n",
       "      <td>33.3</td>\n",
       "      <td>77.5</td>\n",
       "      <td>9.0</td>\n",
       "      <td>8.3</td>\n",
       "      <td>97</td>\n",
       "      <td>4.0</td>\n",
       "      <td>0.2</td>\n",
       "      <td>0.0</td>\n",
       "    </tr>\n",
       "    <tr>\n",
       "      <th>4</th>\n",
       "      <td>8</td>\n",
       "      <td>6</td>\n",
       "      <td>3</td>\n",
       "      <td>0</td>\n",
       "      <td>89.3</td>\n",
       "      <td>51.3</td>\n",
       "      <td>102.2</td>\n",
       "      <td>9.6</td>\n",
       "      <td>11.4</td>\n",
       "      <td>99</td>\n",
       "      <td>1.8</td>\n",
       "      <td>0.0</td>\n",
       "      <td>0.0</td>\n",
       "    </tr>\n",
       "  </tbody>\n",
       "</table>\n",
       "</div>"
      ],
      "text/plain": [
       "   X  Y  month  day  FFMC   DMC     DC  ISI  temp  RH  wind  rain  area\n",
       "0  7  5      3    5  86.2  26.2   94.3  5.1   8.2  51   6.7   0.0   0.0\n",
       "1  7  4     10    2  90.6  35.4  669.1  6.7  18.0  33   0.9   0.0   0.0\n",
       "2  7  4     10    6  90.6  43.7  686.9  6.7  14.6  33   1.3   0.0   0.0\n",
       "3  8  6      3    5  91.7  33.3   77.5  9.0   8.3  97   4.0   0.2   0.0\n",
       "4  8  6      3    0  89.3  51.3  102.2  9.6  11.4  99   1.8   0.0   0.0"
      ]
     },
     "execution_count": 12,
     "metadata": {},
     "output_type": "execute_result"
    }
   ],
   "source": [
    "df.head()"
   ]
  },
  {
   "cell_type": "code",
   "execution_count": 13,
   "metadata": {},
   "outputs": [],
   "source": [
    "df.to_csv('Data/forestfires_cleaned.csv',  index= False)"
   ]
  },
  {
   "cell_type": "code",
   "execution_count": 14,
   "metadata": {},
   "outputs": [],
   "source": [
    "class LinearRegression:\n",
    "    def fit(self , X : np.ndarray, Y : np.ndarray) -> None:\n",
    "        cov = X.T @ X\n",
    "        inv_cov = np.linalg.inv(cov)\n",
    "        #self.theta_ : np.ndarray = np.matmul(int_cov, np.matmul(X.T,Y))\n",
    "        self.theta_ : np.ndarray = inv_cov @ (X.T @ Y)\n",
    "    \n",
    "    def rmse(self, y : np.ndarray , y_hat : np.ndarray) -> float:\n",
    "        delta = y - y_hat\n",
    "        return (delta**2).mean()**0.5\n",
    "    \n",
    "    def predict (self, X: np.ndarray) -> np.ndarray:\n",
    "        y_pred = np.matmul(self.theta_.T, X.T)\n",
    "        return y_pred"
   ]
  },
  {
   "cell_type": "markdown",
   "metadata": {},
   "source": [
    "Defining the input and output vector"
   ]
  },
  {
   "cell_type": "code",
   "execution_count": 15,
   "metadata": {},
   "outputs": [],
   "source": [
    "X_y = df.to_numpy()"
   ]
  },
  {
   "cell_type": "code",
   "execution_count": 16,
   "metadata": {},
   "outputs": [
    {
     "data": {
      "text/plain": [
       "(517, 13)"
      ]
     },
     "execution_count": 16,
     "metadata": {},
     "output_type": "execute_result"
    }
   ],
   "source": [
    "X_y.shape"
   ]
  },
  {
   "cell_type": "code",
   "execution_count": 17,
   "metadata": {},
   "outputs": [],
   "source": [
    "N = df.shape[0]\n",
    "X_y_train , X_y_test = np.split (X_y, indices_or_sections=[int (0.8 * N)])"
   ]
  },
  {
   "cell_type": "code",
   "execution_count": 18,
   "metadata": {},
   "outputs": [
    {
     "data": {
      "text/plain": [
       "array([[ 7.  ,  5.  ,  3.  , ...,  6.7 ,  0.  ,  0.  ],\n",
       "       [ 7.  ,  4.  , 10.  , ...,  0.9 ,  0.  ,  0.  ],\n",
       "       [ 7.  ,  4.  , 10.  , ...,  1.3 ,  0.  ,  0.  ],\n",
       "       ...,\n",
       "       [ 6.  ,  3.  ,  2.  , ...,  2.7 ,  0.  ,  0.  ],\n",
       "       [ 7.  ,  4.  ,  2.  , ...,  9.4 ,  0.  ,  4.62],\n",
       "       [ 9.  ,  4.  ,  7.  , ...,  4.5 ,  0.  ,  1.63]])"
      ]
     },
     "execution_count": 18,
     "metadata": {},
     "output_type": "execute_result"
    }
   ],
   "source": [
    "X_y_train"
   ]
  },
  {
   "cell_type": "code",
   "execution_count": 19,
   "metadata": {},
   "outputs": [
    {
     "data": {
      "text/plain": [
       "array([[  7.  ,   5.  ,   8.  , ...,   3.6 ,   0.  ,   0.  ],\n",
       "       [  5.  ,   4.  ,   8.  , ...,   4.  ,   0.  ,   0.  ],\n",
       "       [  8.  ,   6.  ,   8.  , ...,   4.9 ,   0.  , 746.28],\n",
       "       ...,\n",
       "       [  7.  ,   4.  ,   8.  , ...,   6.7 ,   0.  ,  11.16],\n",
       "       [  1.  ,   4.  ,   8.  , ...,   4.  ,   0.  ,   0.  ],\n",
       "       [  6.  ,   3.  ,  11.  , ...,   4.5 ,   0.  ,   0.  ]])"
      ]
     },
     "execution_count": 19,
     "metadata": {},
     "output_type": "execute_result"
    }
   ],
   "source": [
    "X_y_test"
   ]
  },
  {
   "cell_type": "code",
   "execution_count": 20,
   "metadata": {},
   "outputs": [],
   "source": [
    "X_train = X_y_train[ : , :-1]\n",
    "y_train = X_y_train[ : , -1]\n",
    "\n",
    "X_test = X_y_test[ : , :-1]\n",
    "y_test = X_y_test[ : , -1]"
   ]
  },
  {
   "cell_type": "code",
   "execution_count": 21,
   "metadata": {},
   "outputs": [],
   "source": [
    "lr = LinearRegression()\n",
    "lr.fit(X_train, y_train)\n",
    "Y_predict = lr.predict(X_test)"
   ]
  },
  {
   "cell_type": "code",
   "execution_count": 22,
   "metadata": {},
   "outputs": [
    {
     "data": {
      "text/plain": [
       "array([ 35.83533448,  18.77638492,  29.15051446,  20.42772457,\n",
       "         4.30399383,  17.69543078,  17.71290125,  28.34795941,\n",
       "        21.46622746,  30.34473004,  12.76723564,  37.00774935,\n",
       "        24.87155093,  29.08571618,  22.32713839,  21.84437275,\n",
       "        17.44227541,  35.0070586 ,  24.27524945,  25.63808205,\n",
       "        11.681678  ,  29.4793817 ,  18.8738875 ,  26.34457096,\n",
       "        24.03122918,  26.29371288,  10.84703558,  30.62393583,\n",
       "        26.8939575 ,   1.64350708,  -1.45793103,  27.4750408 ,\n",
       "         5.14389708,  13.26190352,  -2.21590458,  20.51549937,\n",
       "        15.77832857,  14.28515218,   3.56352927,  19.41605223,\n",
       "        26.27342985,  23.56957868,   2.90928601,  21.98031997,\n",
       "        17.84493084,  27.51194135,  27.30368975,  22.25596369,\n",
       "        27.51194135,  14.01154413,  -7.51184614,  -6.07146741,\n",
       "         0.18369402,  -2.00320492,  -0.06652443,   6.50546421,\n",
       "        -0.80442664,   0.56060002,  15.01441359,  11.0598342 ,\n",
       "        20.74347409,  18.31221533,   8.21743226,  19.23044168,\n",
       "         5.76883827,  -1.99757329,  14.04169697,  22.94376997,\n",
       "        20.92546365,   6.4575592 ,  16.13438078,  12.10297283,\n",
       "         6.43368262,   9.04648161,  11.57969837,   0.98272522,\n",
       "         5.29379794,  13.55480994,  23.22815055,  23.90645741,\n",
       "        21.49234778,  26.13497209,  10.61131328,  15.88558343,\n",
       "        19.25251502,  22.35268696, -27.92375525,   6.4562532 ,\n",
       "         5.86964926,   4.90662259,   7.92955555,  10.19564254,\n",
       "        17.52246101,  11.83051156,  20.95229284,  20.7129597 ,\n",
       "         7.17260222,  17.19550301,  14.26755033,  12.12280002,\n",
       "         0.3207621 ,   4.90695903,  18.864239  ,  29.9617817 ])"
      ]
     },
     "execution_count": 22,
     "metadata": {},
     "output_type": "execute_result"
    }
   ],
   "source": [
    "Y_predict"
   ]
  },
  {
   "cell_type": "code",
   "execution_count": 23,
   "metadata": {},
   "outputs": [
    {
     "name": "stdout",
     "output_type": "stream",
     "text": [
      "79.42477263962973665912\n"
     ]
    }
   ],
   "source": [
    "print(f'{lr.rmse(y_test, Y_predict):.20f}')"
   ]
  }
 ],
 "metadata": {
  "kernelspec": {
   "display_name": "base",
   "language": "python",
   "name": "python3"
  },
  "language_info": {
   "codemirror_mode": {
    "name": "ipython",
    "version": 3
   },
   "file_extension": ".py",
   "mimetype": "text/x-python",
   "name": "python",
   "nbconvert_exporter": "python",
   "pygments_lexer": "ipython3",
   "version": "3.11.7"
  }
 },
 "nbformat": 4,
 "nbformat_minor": 2
}
