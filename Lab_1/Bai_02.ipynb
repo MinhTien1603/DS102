{
 "cells": [
  {
   "cell_type": "code",
   "execution_count": 5,
   "metadata": {},
   "outputs": [],
   "source": [
    "import numpy as np\n",
    "import pandas as pd\n",
    "import matplotlib.pyplot as plt\n",
    "import seaborn as sns"
   ]
  },
  {
   "cell_type": "code",
   "execution_count": 6,
   "metadata": {},
   "outputs": [
    {
     "data": {
      "text/html": [
       "<div>\n",
       "<style scoped>\n",
       "    .dataframe tbody tr th:only-of-type {\n",
       "        vertical-align: middle;\n",
       "    }\n",
       "\n",
       "    .dataframe tbody tr th {\n",
       "        vertical-align: top;\n",
       "    }\n",
       "\n",
       "    .dataframe thead th {\n",
       "        text-align: right;\n",
       "    }\n",
       "</style>\n",
       "<table border=\"1\" class=\"dataframe\">\n",
       "  <thead>\n",
       "    <tr style=\"text-align: right;\">\n",
       "      <th></th>\n",
       "      <th>Unnamed: 0</th>\n",
       "      <th>X</th>\n",
       "      <th>Y</th>\n",
       "      <th>month</th>\n",
       "      <th>day</th>\n",
       "      <th>FFMC</th>\n",
       "      <th>DMC</th>\n",
       "      <th>DC</th>\n",
       "      <th>ISI</th>\n",
       "      <th>temp</th>\n",
       "      <th>RH</th>\n",
       "      <th>wind</th>\n",
       "      <th>rain</th>\n",
       "      <th>area</th>\n",
       "    </tr>\n",
       "  </thead>\n",
       "  <tbody>\n",
       "    <tr>\n",
       "      <th>0</th>\n",
       "      <td>0</td>\n",
       "      <td>7</td>\n",
       "      <td>5</td>\n",
       "      <td>3</td>\n",
       "      <td>5</td>\n",
       "      <td>86.2</td>\n",
       "      <td>26.2</td>\n",
       "      <td>94.3</td>\n",
       "      <td>5.1</td>\n",
       "      <td>8.2</td>\n",
       "      <td>51</td>\n",
       "      <td>6.7</td>\n",
       "      <td>0.0</td>\n",
       "      <td>0.0</td>\n",
       "    </tr>\n",
       "    <tr>\n",
       "      <th>1</th>\n",
       "      <td>1</td>\n",
       "      <td>7</td>\n",
       "      <td>4</td>\n",
       "      <td>10</td>\n",
       "      <td>2</td>\n",
       "      <td>90.6</td>\n",
       "      <td>35.4</td>\n",
       "      <td>669.1</td>\n",
       "      <td>6.7</td>\n",
       "      <td>18.0</td>\n",
       "      <td>33</td>\n",
       "      <td>0.9</td>\n",
       "      <td>0.0</td>\n",
       "      <td>0.0</td>\n",
       "    </tr>\n",
       "    <tr>\n",
       "      <th>2</th>\n",
       "      <td>2</td>\n",
       "      <td>7</td>\n",
       "      <td>4</td>\n",
       "      <td>10</td>\n",
       "      <td>6</td>\n",
       "      <td>90.6</td>\n",
       "      <td>43.7</td>\n",
       "      <td>686.9</td>\n",
       "      <td>6.7</td>\n",
       "      <td>14.6</td>\n",
       "      <td>33</td>\n",
       "      <td>1.3</td>\n",
       "      <td>0.0</td>\n",
       "      <td>0.0</td>\n",
       "    </tr>\n",
       "    <tr>\n",
       "      <th>3</th>\n",
       "      <td>3</td>\n",
       "      <td>8</td>\n",
       "      <td>6</td>\n",
       "      <td>3</td>\n",
       "      <td>5</td>\n",
       "      <td>91.7</td>\n",
       "      <td>33.3</td>\n",
       "      <td>77.5</td>\n",
       "      <td>9.0</td>\n",
       "      <td>8.3</td>\n",
       "      <td>97</td>\n",
       "      <td>4.0</td>\n",
       "      <td>0.2</td>\n",
       "      <td>0.0</td>\n",
       "    </tr>\n",
       "    <tr>\n",
       "      <th>4</th>\n",
       "      <td>4</td>\n",
       "      <td>8</td>\n",
       "      <td>6</td>\n",
       "      <td>3</td>\n",
       "      <td>0</td>\n",
       "      <td>89.3</td>\n",
       "      <td>51.3</td>\n",
       "      <td>102.2</td>\n",
       "      <td>9.6</td>\n",
       "      <td>11.4</td>\n",
       "      <td>99</td>\n",
       "      <td>1.8</td>\n",
       "      <td>0.0</td>\n",
       "      <td>0.0</td>\n",
       "    </tr>\n",
       "  </tbody>\n",
       "</table>\n",
       "</div>"
      ],
      "text/plain": [
       "   Unnamed: 0  X  Y  month  day  FFMC   DMC     DC  ISI  temp  RH  wind  rain  \\\n",
       "0           0  7  5      3    5  86.2  26.2   94.3  5.1   8.2  51   6.7   0.0   \n",
       "1           1  7  4     10    2  90.6  35.4  669.1  6.7  18.0  33   0.9   0.0   \n",
       "2           2  7  4     10    6  90.6  43.7  686.9  6.7  14.6  33   1.3   0.0   \n",
       "3           3  8  6      3    5  91.7  33.3   77.5  9.0   8.3  97   4.0   0.2   \n",
       "4           4  8  6      3    0  89.3  51.3  102.2  9.6  11.4  99   1.8   0.0   \n",
       "\n",
       "   area  \n",
       "0   0.0  \n",
       "1   0.0  \n",
       "2   0.0  \n",
       "3   0.0  \n",
       "4   0.0  "
      ]
     },
     "execution_count": 6,
     "metadata": {},
     "output_type": "execute_result"
    }
   ],
   "source": [
    "df = pd.read_csv('Data/forestfires_cleaned.csv')\n",
    "df.head()"
   ]
  },
  {
   "cell_type": "code",
   "execution_count": 9,
   "metadata": {},
   "outputs": [
    {
     "name": "stdout",
     "output_type": "stream",
     "text": [
      "Unnamed: 0 int64\n",
      "X int64\n",
      "Y int64\n",
      "month int64\n",
      "day int64\n",
      "FFMC float64\n",
      "DMC float64\n",
      "DC float64\n",
      "ISI float64\n",
      "temp float64\n",
      "RH int64\n",
      "wind float64\n",
      "rain float64\n",
      "area float64\n"
     ]
    }
   ],
   "source": [
    "for col in df.columns:\n",
    "    print(col, df[f'{col}'].dtype)"
   ]
  },
  {
   "cell_type": "code",
   "execution_count": null,
   "metadata": {},
   "outputs": [],
   "source": [
    "for col in df.columns:\n",
    "    if df[f'{col}'].dtype == 'float64' and col != 'area':\n",
    "        mean = df[col].mean()\n",
    "        std = df[col].std()\n",
    "        df[col] = (df[col] - mean) / std"
   ]
  },
  {
   "cell_type": "code",
   "execution_count": 15,
   "metadata": {},
   "outputs": [
    {
     "data": {
      "text/html": [
       "<div>\n",
       "<style scoped>\n",
       "    .dataframe tbody tr th:only-of-type {\n",
       "        vertical-align: middle;\n",
       "    }\n",
       "\n",
       "    .dataframe tbody tr th {\n",
       "        vertical-align: top;\n",
       "    }\n",
       "\n",
       "    .dataframe thead th {\n",
       "        text-align: right;\n",
       "    }\n",
       "</style>\n",
       "<table border=\"1\" class=\"dataframe\">\n",
       "  <thead>\n",
       "    <tr style=\"text-align: right;\">\n",
       "      <th></th>\n",
       "      <th>Unnamed: 0</th>\n",
       "      <th>X</th>\n",
       "      <th>Y</th>\n",
       "      <th>month</th>\n",
       "      <th>day</th>\n",
       "      <th>FFMC</th>\n",
       "      <th>DMC</th>\n",
       "      <th>DC</th>\n",
       "      <th>ISI</th>\n",
       "      <th>temp</th>\n",
       "      <th>RH</th>\n",
       "      <th>wind</th>\n",
       "      <th>rain</th>\n",
       "      <th>area</th>\n",
       "    </tr>\n",
       "  </thead>\n",
       "  <tbody>\n",
       "    <tr>\n",
       "      <th>0</th>\n",
       "      <td>0</td>\n",
       "      <td>7</td>\n",
       "      <td>5</td>\n",
       "      <td>3</td>\n",
       "      <td>5</td>\n",
       "      <td>-0.805180</td>\n",
       "      <td>-1.322045</td>\n",
       "      <td>-1.828706</td>\n",
       "      <td>-0.860113</td>\n",
       "      <td>-1.840857</td>\n",
       "      <td>51</td>\n",
       "      <td>1.497164</td>\n",
       "      <td>-0.073197</td>\n",
       "      <td>0.0</td>\n",
       "    </tr>\n",
       "    <tr>\n",
       "      <th>1</th>\n",
       "      <td>1</td>\n",
       "      <td>7</td>\n",
       "      <td>4</td>\n",
       "      <td>10</td>\n",
       "      <td>2</td>\n",
       "      <td>-0.008094</td>\n",
       "      <td>-1.178399</td>\n",
       "      <td>0.488418</td>\n",
       "      <td>-0.509195</td>\n",
       "      <td>-0.153130</td>\n",
       "      <td>33</td>\n",
       "      <td>-1.740070</td>\n",
       "      <td>-0.073197</td>\n",
       "      <td>0.0</td>\n",
       "    </tr>\n",
       "    <tr>\n",
       "      <th>2</th>\n",
       "      <td>2</td>\n",
       "      <td>7</td>\n",
       "      <td>4</td>\n",
       "      <td>10</td>\n",
       "      <td>6</td>\n",
       "      <td>-0.008094</td>\n",
       "      <td>-1.048806</td>\n",
       "      <td>0.560173</td>\n",
       "      <td>-0.509195</td>\n",
       "      <td>-0.738668</td>\n",
       "      <td>33</td>\n",
       "      <td>-1.516813</td>\n",
       "      <td>-0.073197</td>\n",
       "      <td>0.0</td>\n",
       "    </tr>\n",
       "    <tr>\n",
       "      <th>3</th>\n",
       "      <td>3</td>\n",
       "      <td>8</td>\n",
       "      <td>6</td>\n",
       "      <td>3</td>\n",
       "      <td>5</td>\n",
       "      <td>0.191177</td>\n",
       "      <td>-1.211188</td>\n",
       "      <td>-1.896429</td>\n",
       "      <td>-0.004751</td>\n",
       "      <td>-1.823636</td>\n",
       "      <td>97</td>\n",
       "      <td>-0.009824</td>\n",
       "      <td>0.602572</td>\n",
       "      <td>0.0</td>\n",
       "    </tr>\n",
       "    <tr>\n",
       "      <th>4</th>\n",
       "      <td>4</td>\n",
       "      <td>8</td>\n",
       "      <td>6</td>\n",
       "      <td>3</td>\n",
       "      <td>0</td>\n",
       "      <td>-0.243597</td>\n",
       "      <td>-0.930142</td>\n",
       "      <td>-1.796859</td>\n",
       "      <td>0.126843</td>\n",
       "      <td>-1.289763</td>\n",
       "      <td>99</td>\n",
       "      <td>-1.237741</td>\n",
       "      <td>-0.073197</td>\n",
       "      <td>0.0</td>\n",
       "    </tr>\n",
       "  </tbody>\n",
       "</table>\n",
       "</div>"
      ],
      "text/plain": [
       "   Unnamed: 0  X  Y  month  day      FFMC       DMC        DC       ISI  \\\n",
       "0           0  7  5      3    5 -0.805180 -1.322045 -1.828706 -0.860113   \n",
       "1           1  7  4     10    2 -0.008094 -1.178399  0.488418 -0.509195   \n",
       "2           2  7  4     10    6 -0.008094 -1.048806  0.560173 -0.509195   \n",
       "3           3  8  6      3    5  0.191177 -1.211188 -1.896429 -0.004751   \n",
       "4           4  8  6      3    0 -0.243597 -0.930142 -1.796859  0.126843   \n",
       "\n",
       "       temp  RH      wind      rain  area  \n",
       "0 -1.840857  51  1.497164 -0.073197   0.0  \n",
       "1 -0.153130  33 -1.740070 -0.073197   0.0  \n",
       "2 -0.738668  33 -1.516813 -0.073197   0.0  \n",
       "3 -1.823636  97 -0.009824  0.602572   0.0  \n",
       "4 -1.289763  99 -1.237741 -0.073197   0.0  "
      ]
     },
     "execution_count": 15,
     "metadata": {},
     "output_type": "execute_result"
    }
   ],
   "source": [
    "df.head()"
   ]
  },
  {
   "cell_type": "code",
   "execution_count": 16,
   "metadata": {},
   "outputs": [],
   "source": [
    "class LinearRegression:\n",
    "    def fit(self , X : np.ndarray, Y : np.ndarray) -> None:\n",
    "        cov = X.T @ X\n",
    "        inv_cov = np.linalg.inv(cov)\n",
    "        #self.theta_ : np.ndarray = np.matmul(int_cov, np.matmul(X.T,Y))\n",
    "        self.theta_ : np.ndarray = inv_cov @ (X.T @ Y)\n",
    "    \n",
    "    def rmse(self, y : np.ndarray , y_hat : np.ndarray) -> float:\n",
    "        delta = y - y_hat\n",
    "        return (delta**2).mean()**0.5\n",
    "    \n",
    "    def predict (self, X: np.ndarray) -> np.ndarray:\n",
    "        y_pred = np.matmul(self.theta_.T, X.T)\n",
    "        return y_pred"
   ]
  },
  {
   "cell_type": "code",
   "execution_count": 17,
   "metadata": {},
   "outputs": [],
   "source": [
    "X_y = df.to_numpy()"
   ]
  },
  {
   "cell_type": "code",
   "execution_count": 18,
   "metadata": {},
   "outputs": [
    {
     "data": {
      "text/plain": [
       "(517, 14)"
      ]
     },
     "execution_count": 18,
     "metadata": {},
     "output_type": "execute_result"
    }
   ],
   "source": [
    "X_y.shape"
   ]
  },
  {
   "cell_type": "code",
   "execution_count": 19,
   "metadata": {},
   "outputs": [],
   "source": [
    "N = df.shape[0]\n",
    "X_y_train , X_y_test = np.split (X_y, indices_or_sections=[int (0.8 * N)])"
   ]
  },
  {
   "cell_type": "code",
   "execution_count": 20,
   "metadata": {},
   "outputs": [],
   "source": [
    "X_train = X_y_train[ : , :-1]\n",
    "y_train = X_y_train[ : , -1]\n",
    "\n",
    "X_test = X_y_test[ : , :-1]\n",
    "y_test = X_y_test[ : , -1]"
   ]
  },
  {
   "cell_type": "code",
   "execution_count": 21,
   "metadata": {},
   "outputs": [],
   "source": [
    "lr = LinearRegression()\n",
    "lr.fit(X_train, y_train)\n",
    "Y_predict = lr.predict(X_test)"
   ]
  },
  {
   "cell_type": "code",
   "execution_count": 22,
   "metadata": {},
   "outputs": [
    {
     "data": {
      "text/plain": [
       "array([38.56600279, 23.20535855, 33.13489727, 26.45516933, 14.55014932,\n",
       "       23.05505029, 22.64079567, 30.48435915, 28.0274852 , 35.23324629,\n",
       "       19.71619235, 39.5693896 , 28.87199779, 30.62735255, 27.38798156,\n",
       "       28.15366893, 22.5905481 , 37.42961015, 29.14862323, 30.11093957,\n",
       "       16.40453187, 33.31362708, 22.29677581, 29.97717988, 25.19917108,\n",
       "       29.29311757, 18.50510812, 32.83544891, 31.26581893,  7.97563264,\n",
       "        5.5257852 , 29.57895721,  6.49857728, 16.80719961,  9.85726071,\n",
       "       22.99383355, 20.76825342, 20.02234227,  7.65526764, 23.76351523,\n",
       "       29.9089478 , 27.87168954, 11.27416947, 26.18625752, 23.2806749 ,\n",
       "       30.00749618, 31.12975365, 25.82829592, 30.09755855, 18.39545009,\n",
       "        1.06010544,  3.1209841 , 10.31971592,  8.69095793, 11.15004325,\n",
       "       17.25468439, 11.69342508, 12.03157723, 22.70229122, 15.75265162,\n",
       "       26.25741852, 25.90893741, 17.03542565, 27.1422481 , 14.74991524,\n",
       "        4.76435423, 20.60630456, 29.29048358, 30.9471297 , 16.00830337,\n",
       "       24.33313213, 21.019384  , 16.31188524, 18.15647054, 20.56908823,\n",
       "        9.16191587, 12.76513331, 22.37609428, 31.86428215, 31.93646925,\n",
       "       30.30765422, 32.74583861, 18.2029463 , 24.53905671, 27.72174188,\n",
       "       30.16140837, -0.16964565, 15.3753037 , 15.39709192, 13.7154514 ,\n",
       "       18.95297586, 21.65483706, 27.43418607, 20.79889467, 29.29186504,\n",
       "       30.15162254, 19.28868036, 24.51420364, 23.49963658, 23.39569796,\n",
       "        9.98607462, 14.45864352, 26.8491823 , 32.66560467])"
      ]
     },
     "execution_count": 22,
     "metadata": {},
     "output_type": "execute_result"
    }
   ],
   "source": [
    "Y_predict"
   ]
  },
  {
   "cell_type": "code",
   "execution_count": 23,
   "metadata": {},
   "outputs": [
    {
     "name": "stdout",
     "output_type": "stream",
     "text": [
      "79.38123063063737561151\n"
     ]
    }
   ],
   "source": [
    "print(f'{lr.rmse(y_test, Y_predict):.20f}')"
   ]
  },
  {
   "cell_type": "markdown",
   "metadata": {},
   "source": [
    "So sánh:"
   ]
  },
  {
   "attachments": {
    "image.png": {
     "image/png": "[encoded data removed]"
    }
   },
   "cell_type": "markdown",
   "metadata": {},
   "source": [
    "\n",
    "![image.png](attachment:image.png)"
   ]
  },
  {
   "cell_type": "markdown",
   "metadata": {},
   "source": [
    "Có thể thấy rằng sau khi chuẩn hoá dữ liệu về phân phối có kỳ vọng là 0 và phương sai là 1, thì khi tính Root Mean Square Error (RMSE) sẽ nhỏ hơn so với RMSE của dữ liệu trước khi chuẩn hóa."
   ]
  }
 ],
 "metadata": {
  "kernelspec": {
   "display_name": "Python 3",
   "language": "python",
   "name": "python3"
  },
  "language_info": {
   "codemirror_mode": {
    "name": "ipython",
    "version": 3
   },
   "file_extension": ".py",
   "mimetype": "text/x-python",
   "name": "python",
   "nbconvert_exporter": "python",
   "pygments_lexer": "ipython3",
   "version": "3.13.1"
  }
 },
 "nbformat": 4,
 "nbformat_minor": 2
}
